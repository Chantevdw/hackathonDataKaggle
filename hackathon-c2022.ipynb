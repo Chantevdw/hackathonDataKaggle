{
 "cells": [
  {
   "cell_type": "code",
   "execution_count": 82,
   "metadata": {
    "_cell_guid": "b1076dfc-b9ad-4769-8c92-a6c4dae69d19",
    "_uuid": "8f2839f25d086af736a60e9eeb907d3b93b6e0e5",
    "execution": {
     "iopub.execute_input": "2022-01-26T14:46:50.827568Z",
     "iopub.status.busy": "2022-01-26T14:46:50.827257Z",
     "iopub.status.idle": "2022-01-26T14:46:50.836966Z",
     "shell.execute_reply": "2022-01-26T14:46:50.835813Z",
     "shell.execute_reply.started": "2022-01-26T14:46:50.827534Z"
    }
   },
   "outputs": [],
   "source": [
    "# This Python 3 environment comes with many helpful analytics libraries installed\n",
    "# It is defined by the kaggle/python Docker image: https://github.com/kaggle/docker-python\n",
    "# For example, here's several helpful packages to load\n",
    "\n",
    "import numpy as np # linear algebra\n",
    "import pandas as pd # data processing, CSV file I/O (e.g. pd.read_csv)\n",
    "\n",
    "# Input data files are available in the read-only \"../input/\" directory\n",
    "# For example, running this (by clicking run or pressing Shift+Enter) will list all files under the input directory\n",
    "\n",
    "import os\n",
    "for dirname, _, filenames in os.walk('/kaggle/input'):\n",
    "    for filename in filenames:\n",
    "        print(os.path.join(dirname, filename))\n",
    "\n",
    "# You can write up to 20GB to the current directory (/kaggle/working/) that gets preserved as output when you create a version using \"Save & Run All\" \n",
    "# You can also write temporary files to /kaggle/temp/, but they won't be saved outside of the current session"
   ]
  },
  {
   "cell_type": "code",
   "execution_count": 83,
   "metadata": {
    "execution": {
     "iopub.execute_input": "2022-01-26T14:46:50.839263Z",
     "iopub.status.busy": "2022-01-26T14:46:50.839014Z",
     "iopub.status.idle": "2022-01-26T14:46:50.854444Z",
     "shell.execute_reply": "2022-01-26T14:46:50.853296Z",
     "shell.execute_reply.started": "2022-01-26T14:46:50.839233Z"
    }
   },
   "outputs": [],
   "source": [
    "import pandas as pd\n",
    "import numpy as np\n",
    "import nltk\n",
    "import string\n",
    "import re\n",
    "from sklearn.feature_extraction.text import CountVectorizer\n",
    "from sklearn.feature_extraction.text import TfidfVectorizer\n",
    "from sklearn.linear_model import LogisticRegression\n",
    "from sklearn.naive_bayes import MultinomialNB\n",
    "from sklearn.ensemble import RandomForestClassifier, AdaBoostClassifier\n",
    "from sklearn.svm import LinearSVC\n",
    "from sklearn.model_selection import train_test_split\n",
    "from sklearn.naive_bayes import MultinomialNB\n",
    "from nltk.stem import WordNetLemmatizer\n",
    "from nltk.corpus import stopwords\n",
    "from nltk.tokenize import RegexpTokenizer\n",
    "from textblob import TextBlob\n",
    "from wordcloud import WordCloud\n",
    "\n",
    "from sklearn.metrics import f1_score\n",
    "\n",
    "import seaborn as sns\n",
    "import matplotlib.pyplot as plt\n",
    "%matplotlib inline\n",
    "\n",
    "import os\n",
    "for dirname, _, filenames in os.walk('/kaggle/input'):\n",
    "    for filename in filenames:\n",
    "        print(os.path.join(dirname, filename))\n",
    "        \n",
    "\n"
   ]
  },
  {
   "cell_type": "code",
   "execution_count": 84,
   "metadata": {
    "execution": {
     "iopub.execute_input": "2022-01-26T14:46:50.856482Z",
     "iopub.status.busy": "2022-01-26T14:46:50.856152Z",
     "iopub.status.idle": "2022-01-26T14:46:50.996697Z",
     "shell.execute_reply": "2022-01-26T14:46:50.995813Z",
     "shell.execute_reply.started": "2022-01-26T14:46:50.856436Z"
    }
   },
   "outputs": [],
   "source": [
    "train = pd.read_csv('/kaggle/input/south-african-language-identification-2021/train_set.csv')\n",
    "test = pd.read_csv('/kaggle/input/south-african-language-identification-2021/test_set.csv')\n",
    "sample = pd.read_csv('/kaggle/input/south-african-language-identification-2021/sample_submission.csv')\n",
    "df = pd.concat([train, test], axis=0, sort = True)"
   ]
  },
  {
   "cell_type": "code",
   "execution_count": 85,
   "metadata": {
    "execution": {
     "iopub.execute_input": "2022-01-26T14:46:50.998872Z",
     "iopub.status.busy": "2022-01-26T14:46:50.998624Z",
     "iopub.status.idle": "2022-01-26T14:46:51.008530Z",
     "shell.execute_reply": "2022-01-26T14:46:51.007845Z",
     "shell.execute_reply.started": "2022-01-26T14:46:50.998840Z"
    }
   },
   "outputs": [],
   "source": [
    "train.head()"
   ]
  },
  {
   "cell_type": "code",
   "execution_count": 86,
   "metadata": {
    "execution": {
     "iopub.execute_input": "2022-01-26T14:46:51.010049Z",
     "iopub.status.busy": "2022-01-26T14:46:51.009806Z",
     "iopub.status.idle": "2022-01-26T14:46:51.026413Z",
     "shell.execute_reply": "2022-01-26T14:46:51.025172Z",
     "shell.execute_reply.started": "2022-01-26T14:46:51.010017Z"
    }
   },
   "outputs": [],
   "source": [
    "test.head()"
   ]
  },
  {
   "cell_type": "code",
   "execution_count": 87,
   "metadata": {
    "execution": {
     "iopub.execute_input": "2022-01-26T14:46:51.028860Z",
     "iopub.status.busy": "2022-01-26T14:46:51.027908Z",
     "iopub.status.idle": "2022-01-26T14:46:51.042535Z",
     "shell.execute_reply": "2022-01-26T14:46:51.041541Z",
     "shell.execute_reply.started": "2022-01-26T14:46:51.028811Z"
    }
   },
   "outputs": [],
   "source": [
    "sample.head()"
   ]
  },
  {
   "cell_type": "code",
   "execution_count": 88,
   "metadata": {
    "execution": {
     "iopub.execute_input": "2022-01-26T14:46:51.044551Z",
     "iopub.status.busy": "2022-01-26T14:46:51.043986Z",
     "iopub.status.idle": "2022-01-26T14:46:51.056578Z",
     "shell.execute_reply": "2022-01-26T14:46:51.055686Z",
     "shell.execute_reply.started": "2022-01-26T14:46:51.044515Z"
    }
   },
   "outputs": [],
   "source": [
    "train.lang_id.value_counts()"
   ]
  },
  {
   "cell_type": "code",
   "execution_count": 89,
   "metadata": {
    "execution": {
     "iopub.execute_input": "2022-01-26T14:46:51.058568Z",
     "iopub.status.busy": "2022-01-26T14:46:51.057885Z",
     "iopub.status.idle": "2022-01-26T14:46:51.360106Z",
     "shell.execute_reply": "2022-01-26T14:46:51.359179Z",
     "shell.execute_reply.started": "2022-01-26T14:46:51.058521Z"
    }
   },
   "outputs": [],
   "source": [
    "plot = train['lang_id'].value_counts()\n",
    "sns.barplot(plot.index,plot)"
   ]
  },
  {
   "cell_type": "code",
   "execution_count": 90,
   "metadata": {
    "execution": {
     "iopub.execute_input": "2022-01-26T14:46:51.363303Z",
     "iopub.status.busy": "2022-01-26T14:46:51.363079Z",
     "iopub.status.idle": "2022-01-26T14:46:51.374826Z",
     "shell.execute_reply": "2022-01-26T14:46:51.373838Z",
     "shell.execute_reply.started": "2022-01-26T14:46:51.363273Z"
    }
   },
   "outputs": [],
   "source": [
    "df.head()"
   ]
  },
  {
   "cell_type": "code",
   "execution_count": 91,
   "metadata": {
    "execution": {
     "iopub.execute_input": "2022-01-26T14:46:51.376350Z",
     "iopub.status.busy": "2022-01-26T14:46:51.376096Z",
     "iopub.status.idle": "2022-01-26T14:46:51.394214Z",
     "shell.execute_reply": "2022-01-26T14:46:51.393220Z",
     "shell.execute_reply.started": "2022-01-26T14:46:51.376319Z"
    }
   },
   "outputs": [],
   "source": [
    "df.describe()"
   ]
  },
  {
   "cell_type": "code",
   "execution_count": 92,
   "metadata": {
    "execution": {
     "iopub.execute_input": "2022-01-26T14:46:51.396290Z",
     "iopub.status.busy": "2022-01-26T14:46:51.395684Z",
     "iopub.status.idle": "2022-01-26T14:46:51.412345Z",
     "shell.execute_reply": "2022-01-26T14:46:51.411659Z",
     "shell.execute_reply.started": "2022-01-26T14:46:51.396242Z"
    }
   },
   "outputs": [],
   "source": [
    "df.isnull().sum()"
   ]
  },
  {
   "cell_type": "code",
   "execution_count": 93,
   "metadata": {
    "execution": {
     "iopub.execute_input": "2022-01-26T14:46:51.414002Z",
     "iopub.status.busy": "2022-01-26T14:46:51.413287Z",
     "iopub.status.idle": "2022-01-26T14:46:51.421721Z",
     "shell.execute_reply": "2022-01-26T14:46:51.421019Z",
     "shell.execute_reply.started": "2022-01-26T14:46:51.413949Z"
    }
   },
   "outputs": [],
   "source": [
    "df1 = df.copy()"
   ]
  },
  {
   "cell_type": "code",
   "execution_count": 94,
   "metadata": {
    "execution": {
     "iopub.execute_input": "2022-01-26T14:46:51.423579Z",
     "iopub.status.busy": "2022-01-26T14:46:51.423307Z",
     "iopub.status.idle": "2022-01-26T14:46:51.432994Z",
     "shell.execute_reply": "2022-01-26T14:46:51.432147Z",
     "shell.execute_reply.started": "2022-01-26T14:46:51.423549Z"
    }
   },
   "outputs": [],
   "source": [
    "# df1['length'] = df1['text'].str.len() \n",
    "# maxlength = dfc['length'].max() \n",
    "# minlength = dfc['length'].min() \n",
    "# maxlength,minlength"
   ]
  },
  {
   "cell_type": "code",
   "execution_count": 95,
   "metadata": {
    "execution": {
     "iopub.execute_input": "2022-01-26T14:46:51.434521Z",
     "iopub.status.busy": "2022-01-26T14:46:51.434206Z",
     "iopub.status.idle": "2022-01-26T14:46:51.447189Z",
     "shell.execute_reply": "2022-01-26T14:46:51.446572Z",
     "shell.execute_reply.started": "2022-01-26T14:46:51.434476Z"
    }
   },
   "outputs": [],
   "source": [
    "cat = df1['lang_id'].unique()"
   ]
  },
  {
   "cell_type": "code",
   "execution_count": 96,
   "metadata": {
    "execution": {
     "iopub.execute_input": "2022-01-26T14:46:51.448613Z",
     "iopub.status.busy": "2022-01-26T14:46:51.448297Z",
     "iopub.status.idle": "2022-01-26T14:46:51.491259Z",
     "shell.execute_reply": "2022-01-26T14:46:51.490292Z",
     "shell.execute_reply.started": "2022-01-26T14:46:51.448568Z"
    }
   },
   "outputs": [],
   "source": [
    "# replace string to multiclass numeric\n",
    "df1['lang_id'].replace({'xho':1,'eng':2,'nso':3,'ven':4, 'tsn':5, 'nbl':6, 'zul':7, 'ssw':8, 'tso':9,'sot':10, 'afr':11}, inplace=True)\n"
   ]
  },
  {
   "cell_type": "code",
   "execution_count": 97,
   "metadata": {
    "execution": {
     "iopub.execute_input": "2022-01-26T14:46:51.492694Z",
     "iopub.status.busy": "2022-01-26T14:46:51.492436Z",
     "iopub.status.idle": "2022-01-26T14:46:51.510027Z",
     "shell.execute_reply": "2022-01-26T14:46:51.509184Z",
     "shell.execute_reply.started": "2022-01-26T14:46:51.492619Z"
    }
   },
   "outputs": [],
   "source": [
    "df1.info()"
   ]
  },
  {
   "cell_type": "code",
   "execution_count": 98,
   "metadata": {
    "execution": {
     "iopub.execute_input": "2022-01-26T14:46:51.511406Z",
     "iopub.status.busy": "2022-01-26T14:46:51.511151Z",
     "iopub.status.idle": "2022-01-26T14:46:51.524308Z",
     "shell.execute_reply": "2022-01-26T14:46:51.523309Z",
     "shell.execute_reply.started": "2022-01-26T14:46:51.511367Z"
    }
   },
   "outputs": [],
   "source": [
    "df1.head(10)"
   ]
  },
  {
   "cell_type": "code",
   "execution_count": 99,
   "metadata": {
    "execution": {
     "iopub.execute_input": "2022-01-26T14:46:51.526242Z",
     "iopub.status.busy": "2022-01-26T14:46:51.525905Z",
     "iopub.status.idle": "2022-01-26T14:46:51.537399Z",
     "shell.execute_reply": "2022-01-26T14:46:51.536244Z",
     "shell.execute_reply.started": "2022-01-26T14:46:51.526182Z"
    }
   },
   "outputs": [],
   "source": [
    "lang_test.shape"
   ]
  },
  {
   "cell_type": "code",
   "execution_count": 100,
   "metadata": {
    "execution": {
     "iopub.execute_input": "2022-01-26T14:46:51.539002Z",
     "iopub.status.busy": "2022-01-26T14:46:51.538760Z",
     "iopub.status.idle": "2022-01-26T14:46:51.553323Z",
     "shell.execute_reply": "2022-01-26T14:46:51.552595Z",
     "shell.execute_reply.started": "2022-01-26T14:46:51.538972Z"
    }
   },
   "outputs": [],
   "source": [
    "df2 = pd.concat([lang_test.assign(ind=\"test\"), lang_train.assign(ind=\"train\")])"
   ]
  },
  {
   "cell_type": "code",
   "execution_count": 101,
   "metadata": {
    "execution": {
     "iopub.execute_input": "2022-01-26T14:46:51.555551Z",
     "iopub.status.busy": "2022-01-26T14:46:51.554582Z",
     "iopub.status.idle": "2022-01-26T14:46:51.569315Z",
     "shell.execute_reply": "2022-01-26T14:46:51.568094Z",
     "shell.execute_reply.started": "2022-01-26T14:46:51.555504Z"
    }
   },
   "outputs": [],
   "source": [
    "df2.head()"
   ]
  },
  {
   "cell_type": "code",
   "execution_count": 102,
   "metadata": {
    "execution": {
     "iopub.execute_input": "2022-01-26T14:46:51.571333Z",
     "iopub.status.busy": "2022-01-26T14:46:51.570675Z",
     "iopub.status.idle": "2022-01-26T14:46:51.578449Z",
     "shell.execute_reply": "2022-01-26T14:46:51.577415Z",
     "shell.execute_reply.started": "2022-01-26T14:46:51.571283Z"
    }
   },
   "outputs": [],
   "source": [
    "df2.shape"
   ]
  },
  {
   "cell_type": "code",
   "execution_count": 103,
   "metadata": {
    "execution": {
     "iopub.execute_input": "2022-01-26T14:46:51.580495Z",
     "iopub.status.busy": "2022-01-26T14:46:51.579964Z",
     "iopub.status.idle": "2022-01-26T14:46:51.626434Z",
     "shell.execute_reply": "2022-01-26T14:46:51.625688Z",
     "shell.execute_reply.started": "2022-01-26T14:46:51.580439Z"
    }
   },
   "outputs": [],
   "source": [
    "df2['text'] = df2['text'].str.lower()"
   ]
  },
  {
   "cell_type": "code",
   "execution_count": 104,
   "metadata": {
    "execution": {
     "iopub.execute_input": "2022-01-26T14:46:51.628752Z",
     "iopub.status.busy": "2022-01-26T14:46:51.627670Z",
     "iopub.status.idle": "2022-01-26T14:46:51.643698Z",
     "shell.execute_reply": "2022-01-26T14:46:51.642851Z",
     "shell.execute_reply.started": "2022-01-26T14:46:51.628676Z"
    }
   },
   "outputs": [],
   "source": [
    "df2.head()"
   ]
  },
  {
   "cell_type": "code",
   "execution_count": 105,
   "metadata": {
    "execution": {
     "iopub.execute_input": "2022-01-26T14:46:51.648210Z",
     "iopub.status.busy": "2022-01-26T14:46:51.647875Z",
     "iopub.status.idle": "2022-01-26T14:46:51.710256Z",
     "shell.execute_reply": "2022-01-26T14:46:51.709277Z",
     "shell.execute_reply.started": "2022-01-26T14:46:51.648177Z"
    }
   },
   "outputs": [],
   "source": [
    "#English\n",
    "eng_stopwords = ['i', 'me', 'my', 'myself', 'we', 'our', 'ours', 'ourselves', 'you', \"you're\", \"you've\", \"you'll\", \"you'd\", 'your', 'yours', 'yourself', 'yourselves', 'he', 'him', 'his', 'himself', 'she', \"she's\", 'her', 'hers', 'herself', 'it', \"it's\", 'its', 'itself', 'they', 'them', 'their', 'theirs', 'themselves', 'what', 'which', 'who', 'whom', 'this', 'that', \"that'll\", 'these', 'those', 'am', 'is', 'are', 'was', 'were', 'be', 'been', 'being', 'have', 'has', 'had', 'having', 'do', 'does', 'did', 'doing', 'a', 'an', 'the', 'and', 'but', 'if', 'or', 'because', 'as', 'until', 'while', 'of', 'at', 'by', 'for', 'with', 'about', 'against', 'between', 'into', 'through', 'during', 'before', 'after', 'above', 'below', 'to', 'from', 'up', 'down', 'in', 'out', 'on', 'off', 'over', 'under', 'again', 'further', 'then', 'once', 'here', 'there', 'when', 'where', 'why', 'how', 'all', 'any', 'both', 'each', 'few', 'more', 'most', 'other', 'some', 'such', 'no', 'nor', 'not', 'only', 'own', 'same', 'so', 'than', 'too', 'very', 's', 't', 'can', 'will', 'just', 'don', \"don't\", 'should', \"should've\", 'now', 'd', 'll', 'm', 'o', 're', 've', 'y', 'ain', 'aren', \"aren't\", 'couldn', \"couldn't\", 'didn', \"didn't\", 'doesn', \"doesn't\", 'hadn', \"hadn't\", 'hasn', \"hasn't\", 'haven', \"haven't\", 'isn', \"isn't\", 'ma', 'mightn', \"mightn't\", 'mustn', \"mustn't\", 'needn', \"needn't\", 'shan', \"shan't\", 'shouldn', \"shouldn't\", 'wasn', \"wasn't\", 'weren', \"weren't\", 'won', \"won't\", 'wouldn', \"wouldn't\"]\n",
    "\n",
    "#Setswana\n",
    "tsn_stopwords = ['tsa me','tsa','re','rona','tsa gago','gago','rraalona','èna','lona','dira','se','lo','se batlang','batlang','ga bōnè','ga',\n",
    "'bōnè','fa','tsamaya','go']\n",
    "\n",
    "#Sesotho\n",
    "sot_stopwords = ['ke','nna','ka bonna','ka nna','ka','rona','ea rona','tsa rona','rona ka borona','uena','u joalo','joalo','u tla','tla','u ka','ea hau','uena',\n",
    "'lona ka bolona','eena','hae','ka boeena','eona','ke eona','bona','tsa bona','tsa','ba','ena','ba le','le','e ne e','o ile a','hore','bakeng sa',\n",
    "'e le','empa','eng','ba bang ba','kapa','ne','ea','ho','re','e leng','etsa','ba bona ba','haeba','joang','mong le e mong','etsang','mona','lokela ho',\n",
    "'joalo','ke hobane’ng ha','theoha','lokela','re','hape','leha e le efe','ka mor’a hore','feela','mong le e mong','’na','rōna','tlas’a','haholo','ka ho','feela',\n",
    "'haholo','pele','le eena o','tšoanang','o ile a','tsohle','mono','neng','hao','ka nako eo','e le','tsena','mo','o na le','hape','ka se khonang','ile a etsa',\n",
    "'ha ho','ka ho fetisisa','ho feta','ba ba neng ba','bile','hona joale','lokela','pakeng tsa','se ke oa','ha a ntse a','tse seng kae','hang','ka bobeli','ho fihlela',\n",
    "'ka nako ya','khahlanong le','etsa','ha e etse joalo','ha a so','ka a etsa joalo','mohlomong ha ho joalo','mohlomong','ha ho','ha ea lokela','ha e hloke','ha ho joalo',\n",
    " 'ka mora','pele ho','nakong','kena','mabapi le','bakeng sa','nakong','ha a ntse a','ho fihlela',\n",
    " 'kapa','tse ling','enngwe','hape','mmalwa',\"ka 'ngoe\",'ka bobeli','ho tswela pele',\"tlas'a\",'fetile','theoha','kantle','ka hare','tlase','nyoloha','ho tloha','ka tlase',\n",
    "'che','tsa hao','hape','se ke oa','lokela ho ba le','ne a ke ke','entse','ha aa ka a etsa joalo' ,'ke ke','ha ea lokela','e ne e se','li ne li se joalo','ha ho joalo','a','ba','bane','bona','e','ea','eaba','empa','ena','ha','hae','hape','ho','hore','ka','ke','la','le','li','me','mo','moo','ne','o','oa','re','sa','se','tloha','tsa','tse','eba','aowa','mohlômong','mohlômongwê','tše','tša','go']                 \n",
    "\n",
    "#Xitsonga\n",
    "tso_stopwords = ['xewani','avuxeni','ahee','kunjhani','minjhani','ni','kona','ndzi','ndza','vonani','hi','wena','ra','huma','e','kwihi','mi',\n",
    "'ku','u','va','ina','e-e','kumbe','xana','a','tivi','kombela','vula','sweswo','nakambe','xi','xana','wa','ke','mina','ndza','ri',\n",
    "'ku']\n",
    "\n",
    "#Afrikaans\n",
    "afr_stopwords = ['ek','my','ek self','myself','ons',\"ons s'n\",'onsself','jy','jou','julle','jy het','het','jy sal','sal','jy sou','sou','joune','jouself',\n",
    "'julleself','hy','hom','syne','sy','homself','sy is','is','haar','haarne','haarself','dit','dit is','self','hulle','hul',\"hulle s'n\",\n",
    "'hulself','wat','watter','wie','hierdie','daardie','dit sal','die','was','wees','gewees','wese','het','hê','gehad het','gehad','doen','het gedoen',\n",
    "'en','maar','as','of','omdat','tot','totdat','terwyl','wyle','van','by','teen','deur','met','vir','oor','om', 'omheen', 'rondon','tussen','in','gedurende',\n",
    "'voor','daarna','na','hierbo','bo','hieronder','onder','aan','tot','van','up','af','in','uit','buite','op','verby', 'weer','verder','dan','destyds','destyd',\n",
    "'een keer','een maal','hier','daar','wanneer','waar','hoekom','hoe','almal','alle','enige','beide','elk','elke','min','meer','die meeste','meeste','ander',\n",
    "'sommige','sulke','sodanig','geen','nee','ook nie','nie','ook','enigste','net','slegs','sleg','eie','besit','dieselfde','so','as','alte','baie','kan','blik',\n",
    "'moenie','moes','nou','en','is nie','kon nie','kon','het nie','doen nie','doen','moes nie','mag nie','mag','moenie','moet','nodig het','het nie nodig nie','moet nie',\n",
    "'was nie','was','sou nie','sou']\n",
    "\n",
    "#isiXhosa\n",
    "xho_stopwords = ['mna','wam','ngokwam','thina','yethu','eyethu','wena','nguwe','une','uza','ungathanda','eyakho','ngokwakho','ngokwenu','nina',\n",
    "'yena','yakhe','ngokwakhe','eyakhe','yiyo','ngokwayo','bona','kubo','yabo','eyabo','ngeyabo','ngokwabo','intoni','ntoni','eyiphi','ngeyiphi',\n",
    "'ngubani','ungubani','engubani','le','leya','lonto','izakuza','ezi','eziya','ezo','ndim','ngu','wayenjalo','unjalo','babenjalo','njalo',\n",
    "'kuba','ukuba','ngokuba','sele','unayo','nayo','ebe','unayo','ndinayo','be','a','e','i','o','u','ukuba','yenza','uzoyenza','zoyenza','ukwenza',\n",
    "'uyenzile','wenzile','ukwenzile','kwenzile','kwenza','ukwenza','kwaye','okunye','kunye','kodwa','ukuba','kuba','okanye','kanye','kuba','ukuba','ngoba',\n",
    "'njenge','kude kube','kude','kube','ngeli xesha','ngeli','xesha','xana','xa','na','ye','nge','nje','ngokuba','malunga','ngokuchasene','chasene','bachasene','chasile','umchasile','aka','kaloku',\n",
    "'phakathi','ungene','ukugqitha','gqitha','gqithile','gqithisa','gqithisile','ngexesha','ngaphambili','emva','mva','ngentla','ntla',\n",
    "'ngezantsi','zantsi','ukuya','kuya','ukusuka','kusuka','suka','phezulu','ngaphezulu','nangaphezulu','na ngaphezulu','phantsi',\n",
    "'ngaphantsi','nga phantsi','phakathi','ngaphandle','phandle','ivuliwe','vuliwe','icimile','cimile','ngaphaya','phaya',\n",
    "'kwakhona','khona','kwa','kamva','emva koko','koko','emveni','apha','phaya','ya','pha','ngaphaya','ingathi','ngathi','nini','nithini',\n",
    " 'uthini','thini','bathini','bathi','athi','besithi','esithi','sithi','phi','njani','unjani','onjani','banjani','konke','bonke','nayiphi na','nayiphi',\n",
    "'zombini','nganye','zimbalwa','ezimbalwa','kaninzi','ninzi','nintsi','kanintsi','ezinintsi','inintsi','uninzi','isininzi','sininzi',\n",
    "'enye','ezinye','enjalo','injalo','kunjalo','njalo','hayi','kuphela','yeyakho','nge yakho','yakho','nge','ngokufanayo','okufanayo','oku','ofanayo','fanayo',\n",
    "'ke','kunokuba','nokuba','kuba','naye','ebe','kakhulu','khulu','ka','unako','ubunako','ebenako','ubu nako','ebe nako','ngaba',\n",
    "'nje','andazi','andiyazi','ndiyayazi','ndiyazi','kufanele','okufaneleyo','kufanelekile','ngoku','ngokuya','kwakhona','kwaye',\n",
    "'ngaba','akunjalo','kunjalo','ayikwazi','ayenzi','eyenza','enza','khange','ayisiyiyo','ayiseyiyo','íyiyo','yiyo','le','ngekhe',\n",
    "'akufuneki','kufuneka','wayengekho','ebengekho','ngekho','ebekho','ukho','babengekho','bengekho','angekhe','soze','mhlawumbi','eli','elo','nelo','neli','nalu','eliya','eliyana']\n",
    "\n",
    "#isiZulu\n",
    "zul_stopwords = [\"futhi\",\"kahle\",\"kakhulu\",\"kanye\",\"khona\",\"kodwa\",\"kungani\",\"kusho\",\"la\",\"lakhe\",\"lapho\",\"mina\",\"ngesikhathi\",\"nje\",\"phansi\",\"phezulu\",\"u\",\"ukuba\",\"ukuthi\",\"ukuze\",\"uma\",\"wahamba\",\"wakhe\",\"wami\",\"wase\",\"wathi\",\"yakhe\",\"zakhe\",\"zonke\",\n",
    "'mina','mina','wami','thina','yethu','okwethu','wena','uwena','uke','uzoba','ubungeke','ngeke','eyakho','wenu','nina','yena','okwakhe','unjalo','kanjalo','njalo','kunjalo','eyakhe','yena','kuyinto','uqobo','qobo','bona','bona','yona','zona',\n",
    " 'yabo','ezabo','zabo','ngokwabo','lwabo','lwazo','yini','kuyini','ngani','manje','khona','lapho','okuyi','imuphi','muphi', 'ubani','bani','ngubani','lokhu','lokhuya','lesi','leli','ukuthi','lokho kuzoba','lokho','kuzoba','lezi','labo','lezo','lawo',\n",
    "'ngi','yimi','kuyinto','kukhona','kwaba','zazikhona','zikhona','ikhona','kube','babe','bekulokhu','ukuba','unayo','banayo','kwadingeka','dingeka','kokuba','yenza','kuyakwenza','wenze','ukwenza','futhi','nafuthi','kanye','nakanye','kodwa','kepha','kanti',\n",
    "'uma','nxa','noma','kumbe','kambe','konje','yini','manje','ngoba','ngalokho','lokho','njengoba','kuze kube','kuze kwabe','kuze','kwabe','ngenkathi','ngesikhathi','lapho','ye','ngase','duze','ngoba','nge','ne','na','mayelana','maqondana','ngokumelene','ncikene',\n",
    "'ncikene','ebhekene','nqikene','phakathi','ngaphakathi','ungene','kungene','bangene','ngokusebenzisa','ngesikhathi','mhlana','mhla','kusa','ngaphambi','ngaphambili','phambili','ngemuva','emuva','kamuva','ngenhla','enhla','ngezansi','phansi','ngaphansi','ezansi',\n",
    "'uku','kusuka','phezulu','ngaphezulu','enhla','phakathi','kuphakathi','kwaphakathi','phuma','phandle','vula','kuvaliwe','valiwe','cishe','cishile','cishiwe','ungene','phezu','seleyo','eqela','futhi','buye','phinda','waphinda','ngaphinda','ngokuqhubekayo','phambili',\n",
    "'lapho-ke','lapho ke','lapho','ke','kanye','lapha','la','laphaya','nini','manxa','ngesikhathi','kuphi','phi','ngani','ngobani','ubani','ngani','yini','kanjani','njani','unjani','konke','kuze','noma yini','noma kuphi','kokubili','bobabili','yombili','ngamunye','emunye',\n",
    "'sisinye','lowo nalowo','lowo','nalowo','okumbalwa','mbalwa','iningana','ncane','okuningi','kuningi','ngokweqileyo','ningi ngokwedlulele','ngokwedlulele','kakhulu','okunye','ezinye','nye','yingcosana','enjalo','njalo','ngenga','nje','cha','qha','ke','noma','hhayi','kuphela',\n",
    "'okwakho','wami','lami','yami','ngeyami','nge yami','ngowami','ngelami','ngo wami','nge lami','ngokufanayo','ngo kufanayo','fanayo','ngakho-ke','ngakho ke','ngakho','ke','kune','kunoba','kunokuthi','kuna','futhi','ngokweqile','kakhulu','impela','ngempela','nge mpela','-noku','noku',\n",
    "'ngakwazi','nga kwazi','kuthanda','isifiso','intando','nje','ungakwenzi','kufanele','ngokufanele','ngo kufanele','bekufanele','beku','manje','kabusha','akuzona','kuzona','zona','ayikwazanga','ayikwazanga','akazange','akusho','kusho','akunjalo','kunjalo','kanjalo','njalo','ngangingenalo',\n",
    "'nganginalo','nginalo','akukaze','kaze','angikaze','akuyona','kuyona','kungenzeka','kungenzeki','akumele','kumele','akudingeki','isidingo','ukudinga','ukufuna','funa','dinga','akunjalo','akufanele','kwakungeyona','yona','babengekho','ngeke']\n",
    "\n",
    "#Tshivenda\n",
    "ven_stopwords = ['nne','inwi','ene','ula','vhala','fhala','tshila','tshone','ndi','la','ya','ni','vhone',' khou','na','nnyi','bva','ga',' fhi',\n",
    " 'gai','do','lini','zwavhudi','livhuwa','khonani','pfi','vhona','vuwa','nga','si','kone','ha','a','naa','ee!','ee','hai!','hai','futhi','habe',\n",
    "'tou','thi','u','ngafhi','ndo','ri','rine','vha','inwi','wa','la','tsha','zwa','dza','la','mini','ngani','hani','mini','-ifhio','ifhio',\n",
    "'aa','ndaa','ro','pfa','khamusi','zwo','fara','duvha','li','divhi','humbela','vhe','vho','dzi','dze','dzo','dzu','yo','yi','yu','ye','yu']\n",
    "\n",
    "stopwords_all = ven_stopwords + zul_stopwords + xho_stopwords + afr_stopwords + tso_stopwords + sot_stopwords + tsn_stopwords + eng_stopwords\n",
    "\n",
    "filter_char = lambda c: ord(c) < 256"
   ]
  },
  {
   "cell_type": "code",
   "execution_count": 106,
   "metadata": {
    "execution": {
     "iopub.execute_input": "2022-01-26T14:46:51.712048Z",
     "iopub.status.busy": "2022-01-26T14:46:51.711444Z",
     "iopub.status.idle": "2022-01-26T14:47:07.729444Z",
     "shell.execute_reply": "2022-01-26T14:47:07.728588Z",
     "shell.execute_reply.started": "2022-01-26T14:46:51.712011Z"
    }
   },
   "outputs": [],
   "source": [
    "df2['text'] = df2['text'].apply(lambda x: ' '.join([item for item in x.split() if item not in stopwords_all]))"
   ]
  },
  {
   "cell_type": "code",
   "execution_count": 107,
   "metadata": {
    "execution": {
     "iopub.execute_input": "2022-01-26T14:47:07.731147Z",
     "iopub.status.busy": "2022-01-26T14:47:07.730825Z",
     "iopub.status.idle": "2022-01-26T14:47:08.852046Z",
     "shell.execute_reply": "2022-01-26T14:47:08.851200Z",
     "shell.execute_reply.started": "2022-01-26T14:47:07.731100Z"
    }
   },
   "outputs": [],
   "source": [
    "df2['text']= df2['text'].apply(lambda s: ''.join(filter(filter_char, s)))"
   ]
  },
  {
   "cell_type": "markdown",
   "metadata": {},
   "source": []
  },
  {
   "cell_type": "markdown",
   "metadata": {},
   "source": []
  },
  {
   "cell_type": "code",
   "execution_count": 109,
   "metadata": {
    "execution": {
     "iopub.execute_input": "2022-01-26T14:49:15.696031Z",
     "iopub.status.busy": "2022-01-26T14:49:15.695702Z",
     "iopub.status.idle": "2022-01-26T14:49:15.702500Z",
     "shell.execute_reply": "2022-01-26T14:49:15.701505Z",
     "shell.execute_reply.started": "2022-01-26T14:49:15.695996Z"
    }
   },
   "outputs": [],
   "source": [
    "lang_train = train.copy()\n",
    "lang_test = test.copy()"
   ]
  },
  {
   "cell_type": "code",
   "execution_count": 110,
   "metadata": {
    "execution": {
     "iopub.execute_input": "2022-01-26T14:49:15.704726Z",
     "iopub.status.busy": "2022-01-26T14:49:15.704328Z",
     "iopub.status.idle": "2022-01-26T14:49:15.716000Z",
     "shell.execute_reply": "2022-01-26T14:49:15.715137Z",
     "shell.execute_reply.started": "2022-01-26T14:49:15.704690Z"
    }
   },
   "outputs": [],
   "source": [
    "lang_train.shape\n"
   ]
  },
  {
   "cell_type": "code",
   "execution_count": 111,
   "metadata": {
    "execution": {
     "iopub.execute_input": "2022-01-26T14:49:15.718253Z",
     "iopub.status.busy": "2022-01-26T14:49:15.717567Z",
     "iopub.status.idle": "2022-01-26T14:49:15.728400Z",
     "shell.execute_reply": "2022-01-26T14:49:15.727327Z",
     "shell.execute_reply.started": "2022-01-26T14:49:15.718205Z"
    }
   },
   "outputs": [],
   "source": [
    "lang_test.shape"
   ]
  },
  {
   "cell_type": "code",
   "execution_count": 112,
   "metadata": {
    "execution": {
     "iopub.execute_input": "2022-01-26T14:49:15.730534Z",
     "iopub.status.busy": "2022-01-26T14:49:15.729867Z",
     "iopub.status.idle": "2022-01-26T14:49:15.747416Z",
     "shell.execute_reply": "2022-01-26T14:49:15.746113Z",
     "shell.execute_reply.started": "2022-01-26T14:49:15.730498Z"
    }
   },
   "outputs": [],
   "source": [
    "DF = pd.concat([lang_test.assign(ind=\"test\"), lang_train.assign(ind=\"train\")])"
   ]
  },
  {
   "cell_type": "code",
   "execution_count": 113,
   "metadata": {
    "execution": {
     "iopub.execute_input": "2022-01-26T14:49:15.749366Z",
     "iopub.status.busy": "2022-01-26T14:49:15.748930Z",
     "iopub.status.idle": "2022-01-26T14:49:15.793784Z",
     "shell.execute_reply": "2022-01-26T14:49:15.792918Z",
     "shell.execute_reply.started": "2022-01-26T14:49:15.749333Z"
    }
   },
   "outputs": [],
   "source": [
    "DF['text'] = DF['text'].str.lower()"
   ]
  },
  {
   "cell_type": "code",
   "execution_count": 114,
   "metadata": {
    "execution": {
     "iopub.execute_input": "2022-01-26T14:49:15.795751Z",
     "iopub.status.busy": "2022-01-26T14:49:15.795313Z",
     "iopub.status.idle": "2022-01-26T14:49:15.808547Z",
     "shell.execute_reply": "2022-01-26T14:49:15.807791Z",
     "shell.execute_reply.started": "2022-01-26T14:49:15.795717Z"
    }
   },
   "outputs": [],
   "source": [
    "DF.head()"
   ]
  },
  {
   "cell_type": "code",
   "execution_count": 115,
   "metadata": {
    "execution": {
     "iopub.execute_input": "2022-01-26T14:49:15.810575Z",
     "iopub.status.busy": "2022-01-26T14:49:15.809891Z",
     "iopub.status.idle": "2022-01-26T14:49:15.824521Z",
     "shell.execute_reply": "2022-01-26T14:49:15.823713Z",
     "shell.execute_reply.started": "2022-01-26T14:49:15.810542Z"
    }
   },
   "outputs": [],
   "source": [
    "tdif = TfidfVectorizer(strip_accents='unicode', analyzer='word', token_pattern=r'\\w{1,}',stop_words=None, ngram_range=(1,1))"
   ]
  },
  {
   "cell_type": "code",
   "execution_count": 116,
   "metadata": {
    "execution": {
     "iopub.execute_input": "2022-01-26T14:49:15.826502Z",
     "iopub.status.busy": "2022-01-26T14:49:15.826038Z",
     "iopub.status.idle": "2022-01-26T14:49:18.699120Z",
     "shell.execute_reply": "2022-01-26T14:49:18.698096Z",
     "shell.execute_reply.started": "2022-01-26T14:49:15.826456Z"
    }
   },
   "outputs": [],
   "source": [
    "X_DF = tdif.fit_transform(DF['text'])\n",
    "X_test = X_DF[0:5682]\n",
    "X_train = X_DF[5682:]\n",
    "y = lang_train['lang_id']"
   ]
  },
  {
   "cell_type": "code",
   "execution_count": 117,
   "metadata": {
    "execution": {
     "iopub.execute_input": "2022-01-26T14:49:18.700585Z",
     "iopub.status.busy": "2022-01-26T14:49:18.700344Z",
     "iopub.status.idle": "2022-01-26T14:51:21.546671Z",
     "shell.execute_reply": "2022-01-26T14:51:21.545596Z",
     "shell.execute_reply.started": "2022-01-26T14:49:18.700553Z"
    }
   },
   "outputs": [],
   "source": [
    "rfc = RandomForestClassifier()\n",
    "rfc.fit(X_train, y)"
   ]
  },
  {
   "cell_type": "code",
   "execution_count": 118,
   "metadata": {
    "execution": {
     "iopub.execute_input": "2022-01-26T14:51:21.548488Z",
     "iopub.status.busy": "2022-01-26T14:51:21.548160Z",
     "iopub.status.idle": "2022-01-26T14:51:22.147120Z",
     "shell.execute_reply": "2022-01-26T14:51:22.146203Z",
     "shell.execute_reply.started": "2022-01-26T14:51:21.548441Z"
    }
   },
   "outputs": [],
   "source": [
    "rfc_pred = rfc.predict(X_test)\n",
    "pred_lang = pd.DataFrame(rfc_pred,columns=['lang_id'])\n",
    "submission = pd.DataFrame({'index':lang_test.index + 1,'lang_id':pred_lang.lang_id})"
   ]
  },
  {
   "cell_type": "code",
   "execution_count": 119,
   "metadata": {
    "execution": {
     "iopub.execute_input": "2022-01-26T14:51:22.148470Z",
     "iopub.status.busy": "2022-01-26T14:51:22.148248Z",
     "iopub.status.idle": "2022-01-26T14:51:22.168025Z",
     "shell.execute_reply": "2022-01-26T14:51:22.166718Z",
     "shell.execute_reply.started": "2022-01-26T14:51:22.148439Z"
    }
   },
   "outputs": [],
   "source": [
    "submission.to_csv('hackathonC2022.csv',index=False)\n"
   ]
  },
  {
   "cell_type": "code",
   "execution_count": null,
   "metadata": {},
   "outputs": [],
   "source": []
  }
 ],
 "metadata": {
  "kernelspec": {
   "display_name": "Python 3",
   "language": "python",
   "name": "python3"
  },
  "language_info": {
   "codemirror_mode": {
    "name": "ipython",
    "version": 3
   },
   "file_extension": ".py",
   "mimetype": "text/x-python",
   "name": "python",
   "nbconvert_exporter": "python",
   "pygments_lexer": "ipython3",
   "version": "3.8.5"
  }
 },
 "nbformat": 4,
 "nbformat_minor": 4
}
